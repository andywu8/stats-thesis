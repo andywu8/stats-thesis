{
 "cells": [
  {
   "cell_type": "code",
   "execution_count": 13,
   "metadata": {},
   "outputs": [
    {
     "name": "stderr",
     "output_type": "stream",
     "text": [
      "[nltk_data] Downloading package stopwords to\n",
      "[nltk_data]     /Users/andywu/nltk_data...\n",
      "[nltk_data]   Package stopwords is already up-to-date!\n",
      "[nltk_data] Downloading package vader_lexicon to\n",
      "[nltk_data]     /Users/andywu/nltk_data...\n",
      "[nltk_data]   Package vader_lexicon is already up-to-date!\n"
     ]
    },
    {
     "data": {
      "text/plain": [
       "True"
      ]
     },
     "execution_count": 13,
     "metadata": {},
     "output_type": "execute_result"
    }
   ],
   "source": [
    "import pandas as pd \n",
    "from collections import Counter\n",
    "from nltk.corpus import stopwords\n",
    "import nltk\n",
    "nltk.download('stopwords')\n",
    "\n",
    "from nltk.sentiment import SentimentIntensityAnalyzer\n",
    "nltk.downloader.download('vader_lexicon')\n",
    "\n"
   ]
  },
  {
   "cell_type": "code",
   "execution_count": 3,
   "metadata": {},
   "outputs": [],
   "source": [
    "scrape_output = pd.read_csv(\"scrape_output.csv\")"
   ]
  },
  {
   "cell_type": "code",
   "execution_count": 4,
   "metadata": {},
   "outputs": [],
   "source": [
    "posts = scrape_output['Content']\n",
    "authors = scrape_output['Author']\n",
    "urls = scrape_output['URL']"
   ]
  },
  {
   "cell_type": "code",
   "execution_count": 21,
   "metadata": {},
   "outputs": [
    {
     "name": "stdout",
     "output_type": "stream",
     "text": [
      "len(posts) 187641\n"
     ]
    }
   ],
   "source": [
    "print(\"len(posts)\", len(posts))"
   ]
  },
  {
   "cell_type": "code",
   "execution_count": 8,
   "metadata": {},
   "outputs": [
    {
     "data": {
      "text/plain": [
       "[(';', 50936),\n",
       " ('like', 22418),\n",
       " ('people', 21298),\n",
       " ('get', 20257),\n",
       " ('would', 20227),\n",
       " ('one', 19375),\n",
       " ('good', 17831),\n",
       " ('top', 14850),\n",
       " ('think', 14588),\n",
       " ('even', 13779)]"
      ]
     },
     "execution_count": 8,
     "metadata": {},
     "output_type": "execute_result"
    }
   ],
   "source": [
    "stop_words = set(stopwords.words('english'))\n",
    "\n",
    " \n",
    "# Use this to read file content as a stream:\n",
    "count_words = []\n",
    "for word in \" \".join(map(str, posts)).split():\n",
    "    word = word.lower()\n",
    "    if word not in stop_words:\n",
    "        count_words.append(word)\n",
    "Counter(count_words).most_common(10)"
   ]
  },
  {
   "cell_type": "code",
   "execution_count": 9,
   "metadata": {},
   "outputs": [
    {
     "data": {
      "text/plain": [
       "[('nan', 475),\n",
       " ('marginal', 327),\n",
       " ('revolution', 327),\n",
       " ('ejmrbear', 190),\n",
       " ('karl', 172),\n",
       " ('kirk', 134),\n",
       " ('eurovision', 130),\n",
       " ('1c08', 113),\n",
       " ('2c5d', 91),\n",
       " ('30e6', 76)]"
      ]
     },
     "execution_count": 9,
     "metadata": {},
     "output_type": "execute_result"
    }
   ],
   "source": [
    "count_authors = []\n",
    "for author in \" \".join(map(str, authors)).split():\n",
    "    author = author.lower()\n",
    "    count_authors.append(author)\n",
    "Counter(count_authors).most_common(10)"
   ]
  },
  {
   "cell_type": "code",
   "execution_count": 12,
   "metadata": {},
   "outputs": [
    {
     "name": "stdout",
     "output_type": "stream",
     "text": [
      "     ;   like people    get  would \n",
      " 50936  22418  21298  20257  20227 \n"
     ]
    }
   ],
   "source": [
    "# https://realpython.com/python-nltk-sentiment-analysis/\n",
    "fd = nltk.FreqDist(count_words)\n",
    "fd.most_common(5)\n",
    "fd.tabulate(5)"
   ]
  },
  {
   "cell_type": "code",
   "execution_count": 11,
   "metadata": {},
   "outputs": [
    {
     "name": "stdout",
     "output_type": "stream",
     "text": [
      "       nan   marginal revolution   ejmrbear       karl \n",
      "       475        327        327        190        172 \n"
     ]
    }
   ],
   "source": [
    "fd = nltk.FreqDist(count_authors)\n",
    "fd.most_common(5)\n",
    "fd.tabulate(5)"
   ]
  },
  {
   "cell_type": "code",
   "execution_count": 25,
   "metadata": {},
   "outputs": [
    {
     "data": {
      "text/plain": [
       "14"
      ]
     },
     "execution_count": 25,
     "metadata": {},
     "output_type": "execute_result"
    }
   ],
   "source": [
    "fd[\"anyone\"]"
   ]
  },
  {
   "cell_type": "code",
   "execution_count": 14,
   "metadata": {},
   "outputs": [],
   "source": [
    "'''\n",
    "Vader Sentiment Analysis \n",
    "'''\n",
    "sia = SentimentIntensityAnalyzer()"
   ]
  },
  {
   "cell_type": "code",
   "execution_count": 18,
   "metadata": {},
   "outputs": [
    {
     "name": "stdout",
     "output_type": "stream",
     "text": [
      "negative words:  [('bad', 4585), ('failed', 1087), ('hate', 979), ('worst', 949), ('rejected', 935), ('stupid', 792), ('negative', 740), ('bad.', 696), ('fail', 681), ('fraud', 665)]\n",
      "positive words:  [('best', 5431), ('great', 4611), ('kind', 2476), ('strong', 2247), ('love', 1993), ('free', 1700), ('happy', 1185), ('super', 988), ('confidence', 697), ('trust', 685)]\n"
     ]
    }
   ],
   "source": [
    "def is_positive(word: str) -> bool:\n",
    "    \"\"\"True if word has positive compound sentiment, False otherwise.\"\"\"\n",
    "    return sia.polarity_scores(word)[\"compound\"] > .5\n",
    "\n",
    "def is_negative(word: str) -> bool:\n",
    "    \"\"\"True if word has negative compound sentiment, False otherwise.\"\"\"\n",
    "    return sia.polarity_scores(word)[\"compound\"] < -.5\n",
    "\n",
    "positive_words = []\n",
    "negative_words = []\n",
    "\n",
    "for word in \" \".join(map(str, posts)).split():\n",
    "    word = word.lower()\n",
    "\n",
    "    if word not in stop_words:\n",
    "        if is_positive(word):\n",
    "            positive_words.append(word)\n",
    "        elif is_negative(word):\n",
    "            negative_words.append(word)\n",
    "print(\"negative words: \", Counter(negative_words).most_common(10))\n",
    "print(\"positive words: \", Counter(positive_words).most_common(10))"
   ]
  },
  {
   "cell_type": "code",
   "execution_count": null,
   "metadata": {},
   "outputs": [],
   "source": []
  },
  {
   "cell_type": "code",
   "execution_count": 22,
   "metadata": {},
   "outputs": [
    {
     "name": "stdout",
     "output_type": "stream",
     "text": [
      "negative authors:  [(nan, 63), ('Marginal Revolution', 57), ('e4c8', 21), ('Kirk', 17), ('5093', 16), ('f24e', 15), ('5c03', 15), ('ded9', 15), ('c7ab', 14), ('480c', 14)]\n",
      "positive authors:  [('Marginal Revolution', 159), (nan, 126), ('3f50', 48), ('Kirk', 38), ('54de', 38), ('Karl', 31), ('EJMRBear', 24), ('1f11', 24), ('42c7', 22), ('da9d', 21)]\n"
     ]
    }
   ],
   "source": [
    "def is_positive_sentiment_sentence(sentence):\n",
    "    return sia.polarity_scores(sentence)[\"compound\"] > .5\n",
    "    # print(\"{:-<40} {}\".format(sentence, str(snt)))\n",
    "\n",
    "def is_negative_sentiment_sentence(sentence):\n",
    "    return sia.polarity_scores(sentence)[\"compound\"] < -.5\n",
    "\n",
    "\n",
    "positive_authors = []\n",
    "negative_authors = []\n",
    "for index, post in enumerate(posts):\n",
    "    if is_positive_sentiment_sentence(str(post)):\n",
    "        positive_authors.append(authors[index])\n",
    "    elif is_negative_sentiment_sentence(str(post)):\n",
    "        negative_authors.append(authors[index])\n",
    "print(\"negative authors: \", Counter(negative_authors).most_common(10))\n",
    "print(\"positive authors: \", Counter(positive_authors).most_common(10))"
   ]
  },
  {
   "cell_type": "code",
   "execution_count": null,
   "metadata": {},
   "outputs": [],
   "source": []
  }
 ],
 "metadata": {
  "kernelspec": {
   "display_name": "Python 3.7.4 ('base')",
   "language": "python",
   "name": "python3"
  },
  "language_info": {
   "codemirror_mode": {
    "name": "ipython",
    "version": 3
   },
   "file_extension": ".py",
   "mimetype": "text/x-python",
   "name": "python",
   "nbconvert_exporter": "python",
   "pygments_lexer": "ipython3",
   "version": "3.7.4"
  },
  "orig_nbformat": 4,
  "vscode": {
   "interpreter": {
    "hash": "d7b302bac56d86836f40034d7051c6a846486e6f9ff14e5e3c9009e1c74bfd7d"
   }
  }
 },
 "nbformat": 4,
 "nbformat_minor": 2
}
